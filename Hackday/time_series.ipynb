{
 "cells": [
  {
   "cell_type": "code",
   "execution_count": 48,
   "id": "e0256a61",
   "metadata": {},
   "outputs": [
    {
     "name": "stderr",
     "output_type": "stream",
     "text": [
      "C:\\Users\\antara.das\\AppData\\Local\\Programs\\Python\\Python310\\lib\\site-packages\\geopandas\\_compat.py:111: UserWarning: The Shapely GEOS version (3.10.2-CAPI-1.16.0) is incompatible with the GEOS version PyGEOS was compiled with (3.10.1-CAPI-1.16.0). Conversions between both will be slow.\n",
      "  warnings.warn(\n"
     ]
    }
   ],
   "source": [
    "import pandas as pd\n",
    "from datetime import datetime\n",
    "\n",
    "from msilib import sequence\n",
    "from turtle import width\n",
    "import streamlit as st\n",
    "import pandas as pd \n",
    "from PIL import Image\n",
    "import PIL\n",
    "import altair as alt\n",
    "import seaborn as sns \n",
    "import matplotlib.pyplot as plt\n",
    "import numpy as np\n",
    "import os\n",
    "import geopandas as gpd"
   ]
  },
  {
   "cell_type": "code",
   "execution_count": 29,
   "id": "3e0933f2",
   "metadata": {},
   "outputs": [],
   "source": [
    "pollen_data = pd.read_csv('pollendata.csv', sep = ';')"
   ]
  },
  {
   "cell_type": "code",
   "execution_count": 30,
   "id": "1892063b",
   "metadata": {},
   "outputs": [
    {
     "data": {
      "text/html": [
       "<div>\n",
       "<style scoped>\n",
       "    .dataframe tbody tr th:only-of-type {\n",
       "        vertical-align: middle;\n",
       "    }\n",
       "\n",
       "    .dataframe tbody tr th {\n",
       "        vertical-align: top;\n",
       "    }\n",
       "\n",
       "    .dataframe thead th {\n",
       "        text-align: right;\n",
       "    }\n",
       "</style>\n",
       "<table border=\"1\" class=\"dataframe\">\n",
       "  <thead>\n",
       "    <tr style=\"text-align: right;\">\n",
       "      <th></th>\n",
       "      <th>Standort</th>\n",
       "      <th>von_Tag</th>\n",
       "      <th>von_Zeit</th>\n",
       "      <th>bis_Tag</th>\n",
       "      <th>bis_Zeit</th>\n",
       "      <th>Birke</th>\n",
       "      <th>Erle</th>\n",
       "      <th>Hasel</th>\n",
       "      <th>Esche</th>\n",
       "      <th>Roggen</th>\n",
       "      <th>Graeser</th>\n",
       "      <th>Beifuss</th>\n",
       "      <th>Ambrosia</th>\n",
       "      <th>Unnamed: 13</th>\n",
       "    </tr>\n",
       "  </thead>\n",
       "  <tbody>\n",
       "    <tr>\n",
       "      <th>2915</th>\n",
       "      <td>Feucht</td>\n",
       "      <td>31.12.2021</td>\n",
       "      <td>09:00:00</td>\n",
       "      <td>31.12.2021</td>\n",
       "      <td>12:00:00</td>\n",
       "      <td>0</td>\n",
       "      <td>0</td>\n",
       "      <td>0</td>\n",
       "      <td>0</td>\n",
       "      <td>0</td>\n",
       "      <td>0</td>\n",
       "      <td>0</td>\n",
       "      <td>0</td>\n",
       "      <td>NaN</td>\n",
       "    </tr>\n",
       "    <tr>\n",
       "      <th>2916</th>\n",
       "      <td>Feucht</td>\n",
       "      <td>31.12.2021</td>\n",
       "      <td>12:00:00</td>\n",
       "      <td>31.12.2021</td>\n",
       "      <td>15:00:00</td>\n",
       "      <td>0</td>\n",
       "      <td>0,66</td>\n",
       "      <td>0</td>\n",
       "      <td>0</td>\n",
       "      <td>0</td>\n",
       "      <td>0</td>\n",
       "      <td>0</td>\n",
       "      <td>0</td>\n",
       "      <td>NaN</td>\n",
       "    </tr>\n",
       "    <tr>\n",
       "      <th>2917</th>\n",
       "      <td>Feucht</td>\n",
       "      <td>31.12.2021</td>\n",
       "      <td>15:00:00</td>\n",
       "      <td>31.12.2021</td>\n",
       "      <td>18:00:00</td>\n",
       "      <td>0</td>\n",
       "      <td>0</td>\n",
       "      <td>0</td>\n",
       "      <td>0</td>\n",
       "      <td>0</td>\n",
       "      <td>0</td>\n",
       "      <td>0</td>\n",
       "      <td>0</td>\n",
       "      <td>NaN</td>\n",
       "    </tr>\n",
       "    <tr>\n",
       "      <th>2918</th>\n",
       "      <td>Feucht</td>\n",
       "      <td>31.12.2021</td>\n",
       "      <td>18:00:00</td>\n",
       "      <td>31.12.2021</td>\n",
       "      <td>21:00:00</td>\n",
       "      <td>.</td>\n",
       "      <td>.</td>\n",
       "      <td>.</td>\n",
       "      <td>.</td>\n",
       "      <td>.</td>\n",
       "      <td>.</td>\n",
       "      <td>.</td>\n",
       "      <td>.</td>\n",
       "      <td>NaN</td>\n",
       "    </tr>\n",
       "    <tr>\n",
       "      <th>2919</th>\n",
       "      <td>Feucht</td>\n",
       "      <td>31.12.2021</td>\n",
       "      <td>21:00:00</td>\n",
       "      <td>01.01.2022</td>\n",
       "      <td>00:00:00</td>\n",
       "      <td>.</td>\n",
       "      <td>.</td>\n",
       "      <td>.</td>\n",
       "      <td>.</td>\n",
       "      <td>.</td>\n",
       "      <td>.</td>\n",
       "      <td>.</td>\n",
       "      <td>.</td>\n",
       "      <td>NaN</td>\n",
       "    </tr>\n",
       "  </tbody>\n",
       "</table>\n",
       "</div>"
      ],
      "text/plain": [
       "     Standort     von_Tag  von_Zeit     bis_Tag  bis_Zeit Birke  Erle Hasel  \\\n",
       "2915   Feucht  31.12.2021  09:00:00  31.12.2021  12:00:00     0     0     0   \n",
       "2916   Feucht  31.12.2021  12:00:00  31.12.2021  15:00:00     0  0,66     0   \n",
       "2917   Feucht  31.12.2021  15:00:00  31.12.2021  18:00:00     0     0     0   \n",
       "2918   Feucht  31.12.2021  18:00:00  31.12.2021  21:00:00     .     .     .   \n",
       "2919   Feucht  31.12.2021  21:00:00  01.01.2022  00:00:00     .     .     .   \n",
       "\n",
       "     Esche Roggen Graeser Beifuss Ambrosia Unnamed: 13  \n",
       "2915     0      0       0       0        0         NaN  \n",
       "2916     0      0       0       0        0         NaN  \n",
       "2917     0      0       0       0        0         NaN  \n",
       "2918     .      .       .       .        .         NaN  \n",
       "2919     .      .       .       .        .         NaN  "
      ]
     },
     "execution_count": 30,
     "metadata": {},
     "output_type": "execute_result"
    }
   ],
   "source": [
    "pollen_data.tail()"
   ]
  },
  {
   "cell_type": "code",
   "execution_count": 31,
   "id": "eeca8062",
   "metadata": {},
   "outputs": [],
   "source": [
    "pollen_data = pollen_data.drop(columns = ['Unnamed: 13'])"
   ]
  },
  {
   "cell_type": "code",
   "execution_count": 32,
   "id": "352b66da",
   "metadata": {},
   "outputs": [
    {
     "data": {
      "text/plain": [
       "Feucht    2919\n",
       "Name: Standort, dtype: int64"
      ]
     },
     "execution_count": 32,
     "metadata": {},
     "output_type": "execute_result"
    }
   ],
   "source": [
    "pollen_data.Standort.value_counts()"
   ]
  },
  {
   "cell_type": "code",
   "execution_count": 36,
   "id": "d846aa1a",
   "metadata": {},
   "outputs": [],
   "source": [
    "pollen_data['von_Tag'] = pd.to_datetime(pollen_data['von_Tag'], format='%d.%m.%Y')\n",
    "pollen_data['von_Zeit'] = pd.to_datetime(pollen_data['von_Zeit'], format='%H:%M:%S')\n",
    "\n",
    "\n",
    "pollen_data['bis_Tag'] = pd.to_datetime(pollen_data['bis_Tag'], format='%d.%m.%Y')\n",
    "pollen_data['bis_Zeit'] = pd.to_datetime(pollen_data['bis_Zeit'], format='%H:%M:%S')"
   ]
  },
  {
   "cell_type": "code",
   "execution_count": 37,
   "id": "cfcacced",
   "metadata": {},
   "outputs": [
    {
     "data": {
      "text/html": [
       "<div>\n",
       "<style scoped>\n",
       "    .dataframe tbody tr th:only-of-type {\n",
       "        vertical-align: middle;\n",
       "    }\n",
       "\n",
       "    .dataframe tbody tr th {\n",
       "        vertical-align: top;\n",
       "    }\n",
       "\n",
       "    .dataframe thead th {\n",
       "        text-align: right;\n",
       "    }\n",
       "</style>\n",
       "<table border=\"1\" class=\"dataframe\">\n",
       "  <thead>\n",
       "    <tr style=\"text-align: right;\">\n",
       "      <th></th>\n",
       "      <th>Standort</th>\n",
       "      <th>von_Tag</th>\n",
       "      <th>von_Zeit</th>\n",
       "      <th>bis_Tag</th>\n",
       "      <th>bis_Zeit</th>\n",
       "      <th>Birke</th>\n",
       "      <th>Erle</th>\n",
       "      <th>Hasel</th>\n",
       "      <th>Esche</th>\n",
       "      <th>Roggen</th>\n",
       "      <th>Graeser</th>\n",
       "      <th>Beifuss</th>\n",
       "      <th>Ambrosia</th>\n",
       "    </tr>\n",
       "  </thead>\n",
       "  <tbody>\n",
       "    <tr>\n",
       "      <th>2915</th>\n",
       "      <td>Feucht</td>\n",
       "      <td>2021-12-31</td>\n",
       "      <td>1900-01-01 09:00:00</td>\n",
       "      <td>2021-12-31</td>\n",
       "      <td>1900-01-01 12:00:00</td>\n",
       "      <td>0</td>\n",
       "      <td>0</td>\n",
       "      <td>0</td>\n",
       "      <td>0</td>\n",
       "      <td>0</td>\n",
       "      <td>0</td>\n",
       "      <td>0</td>\n",
       "      <td>0</td>\n",
       "    </tr>\n",
       "    <tr>\n",
       "      <th>2916</th>\n",
       "      <td>Feucht</td>\n",
       "      <td>2021-12-31</td>\n",
       "      <td>1900-01-01 12:00:00</td>\n",
       "      <td>2021-12-31</td>\n",
       "      <td>1900-01-01 15:00:00</td>\n",
       "      <td>0</td>\n",
       "      <td>0,66</td>\n",
       "      <td>0</td>\n",
       "      <td>0</td>\n",
       "      <td>0</td>\n",
       "      <td>0</td>\n",
       "      <td>0</td>\n",
       "      <td>0</td>\n",
       "    </tr>\n",
       "    <tr>\n",
       "      <th>2917</th>\n",
       "      <td>Feucht</td>\n",
       "      <td>2021-12-31</td>\n",
       "      <td>1900-01-01 15:00:00</td>\n",
       "      <td>2021-12-31</td>\n",
       "      <td>1900-01-01 18:00:00</td>\n",
       "      <td>0</td>\n",
       "      <td>0</td>\n",
       "      <td>0</td>\n",
       "      <td>0</td>\n",
       "      <td>0</td>\n",
       "      <td>0</td>\n",
       "      <td>0</td>\n",
       "      <td>0</td>\n",
       "    </tr>\n",
       "    <tr>\n",
       "      <th>2918</th>\n",
       "      <td>Feucht</td>\n",
       "      <td>2021-12-31</td>\n",
       "      <td>1900-01-01 18:00:00</td>\n",
       "      <td>2021-12-31</td>\n",
       "      <td>1900-01-01 21:00:00</td>\n",
       "      <td>.</td>\n",
       "      <td>.</td>\n",
       "      <td>.</td>\n",
       "      <td>.</td>\n",
       "      <td>.</td>\n",
       "      <td>.</td>\n",
       "      <td>.</td>\n",
       "      <td>.</td>\n",
       "    </tr>\n",
       "    <tr>\n",
       "      <th>2919</th>\n",
       "      <td>Feucht</td>\n",
       "      <td>2021-12-31</td>\n",
       "      <td>1900-01-01 21:00:00</td>\n",
       "      <td>2022-01-01</td>\n",
       "      <td>1900-01-01 00:00:00</td>\n",
       "      <td>.</td>\n",
       "      <td>.</td>\n",
       "      <td>.</td>\n",
       "      <td>.</td>\n",
       "      <td>.</td>\n",
       "      <td>.</td>\n",
       "      <td>.</td>\n",
       "      <td>.</td>\n",
       "    </tr>\n",
       "  </tbody>\n",
       "</table>\n",
       "</div>"
      ],
      "text/plain": [
       "     Standort    von_Tag            von_Zeit    bis_Tag            bis_Zeit  \\\n",
       "2915   Feucht 2021-12-31 1900-01-01 09:00:00 2021-12-31 1900-01-01 12:00:00   \n",
       "2916   Feucht 2021-12-31 1900-01-01 12:00:00 2021-12-31 1900-01-01 15:00:00   \n",
       "2917   Feucht 2021-12-31 1900-01-01 15:00:00 2021-12-31 1900-01-01 18:00:00   \n",
       "2918   Feucht 2021-12-31 1900-01-01 18:00:00 2021-12-31 1900-01-01 21:00:00   \n",
       "2919   Feucht 2021-12-31 1900-01-01 21:00:00 2022-01-01 1900-01-01 00:00:00   \n",
       "\n",
       "     Birke  Erle Hasel Esche Roggen Graeser Beifuss Ambrosia  \n",
       "2915     0     0     0     0      0       0       0        0  \n",
       "2916     0  0,66     0     0      0       0       0        0  \n",
       "2917     0     0     0     0      0       0       0        0  \n",
       "2918     .     .     .     .      .       .       .        .  \n",
       "2919     .     .     .     .      .       .       .        .  "
      ]
     },
     "execution_count": 37,
     "metadata": {},
     "output_type": "execute_result"
    }
   ],
   "source": [
    "pollen_data.tail()"
   ]
  },
  {
   "cell_type": "code",
   "execution_count": 39,
   "id": "7c8445dc",
   "metadata": {},
   "outputs": [],
   "source": [
    "pollen_data['garbage'] = pd.to_datetime(pollen_data['von_Zeit']).dt.date"
   ]
  },
  {
   "cell_type": "code",
   "execution_count": 41,
   "id": "ce0078e6",
   "metadata": {},
   "outputs": [],
   "source": [
    "pollen_data['von_Zeit'] = pd.to_datetime(pollen_data['von_Zeit']).dt.time"
   ]
  },
  {
   "cell_type": "code",
   "execution_count": 43,
   "id": "1fa3eb98",
   "metadata": {},
   "outputs": [],
   "source": [
    "pollen_data['garbage2'] = pd.to_datetime(pollen_data['bis_Zeit']).dt.date\n",
    "pollen_data['bis_Zeit'] = pd.to_datetime(pollen_data['bis_Zeit']).dt.time"
   ]
  },
  {
   "cell_type": "code",
   "execution_count": 44,
   "id": "fcbbf4a4",
   "metadata": {},
   "outputs": [],
   "source": [
    "pollen_data = pollen_data.drop(columns=['garbage','garbage2'])"
   ]
  },
  {
   "cell_type": "code",
   "execution_count": 46,
   "id": "4c34f5d9",
   "metadata": {},
   "outputs": [
    {
     "data": {
      "text/plain": [
       "Timestamp('2021-12-31 00:00:00')"
      ]
     },
     "execution_count": 46,
     "metadata": {},
     "output_type": "execute_result"
    }
   ],
   "source": [
    "pollen_data.von_Tag.max()"
   ]
  },
  {
   "cell_type": "code",
   "execution_count": 47,
   "id": "e3655b3c",
   "metadata": {},
   "outputs": [
    {
     "data": {
      "text/plain": [
       "Timestamp('2021-01-01 00:00:00')"
      ]
     },
     "execution_count": 47,
     "metadata": {},
     "output_type": "execute_result"
    }
   ],
   "source": [
    "pollen_data.von_Tag.min()"
   ]
  },
  {
   "cell_type": "code",
   "execution_count": 49,
   "id": "7fffdccd",
   "metadata": {},
   "outputs": [
    {
     "data": {
      "text/html": [
       "<div>\n",
       "<style scoped>\n",
       "    .dataframe tbody tr th:only-of-type {\n",
       "        vertical-align: middle;\n",
       "    }\n",
       "\n",
       "    .dataframe tbody tr th {\n",
       "        vertical-align: top;\n",
       "    }\n",
       "\n",
       "    .dataframe thead th {\n",
       "        text-align: right;\n",
       "    }\n",
       "</style>\n",
       "<table border=\"1\" class=\"dataframe\">\n",
       "  <thead>\n",
       "    <tr style=\"text-align: right;\">\n",
       "      <th></th>\n",
       "      <th>einwohner</th>\n",
       "      <th>note</th>\n",
       "      <th>plz</th>\n",
       "      <th>NUTS_ID</th>\n",
       "      <th>NUTS_NAME</th>\n",
       "      <th>geometry</th>\n",
       "    </tr>\n",
       "  </thead>\n",
       "  <tbody>\n",
       "    <tr>\n",
       "      <th>0</th>\n",
       "      <td>3314</td>\n",
       "      <td>07330 Probstzella</td>\n",
       "      <td>07330</td>\n",
       "      <td>DE246</td>\n",
       "      <td>Bayreuth, Landkreis</td>\n",
       "      <td>MULTIPOLYGON (((11.44087 50.50048, 11.44086 50...</td>\n",
       "    </tr>\n",
       "    <tr>\n",
       "      <th>1</th>\n",
       "      <td>3294</td>\n",
       "      <td>07343 Wurzbach</td>\n",
       "      <td>07343</td>\n",
       "      <td>DE246</td>\n",
       "      <td>Bayreuth, Landkreis</td>\n",
       "      <td>MULTIPOLYGON (((11.52942 50.37808, 11.52939 50...</td>\n",
       "    </tr>\n",
       "  </tbody>\n",
       "</table>\n",
       "</div>"
      ],
      "text/plain": [
       "   einwohner               note    plz NUTS_ID            NUTS_NAME  \\\n",
       "0       3314  07330 Probstzella  07330   DE246  Bayreuth, Landkreis   \n",
       "1       3294     07343 Wurzbach  07343   DE246  Bayreuth, Landkreis   \n",
       "\n",
       "                                            geometry  \n",
       "0  MULTIPOLYGON (((11.44087 50.50048, 11.44086 50...  \n",
       "1  MULTIPOLYGON (((11.52942 50.37808, 11.52939 50...  "
      ]
     },
     "execution_count": 49,
     "metadata": {},
     "output_type": "execute_result"
    }
   ],
   "source": [
    "data = '.\\data'\n",
    "geo_nurn = gpd.read_file(os.path.join(data, 'Nuerberg_MR_plz.geojson'))\n",
    "geo_nurn.head(2)"
   ]
  },
  {
   "cell_type": "code",
   "execution_count": 50,
   "id": "2f80d2e1",
   "metadata": {},
   "outputs": [
    {
     "data": {
      "text/html": [
       "<div>\n",
       "<style scoped>\n",
       "    .dataframe tbody tr th:only-of-type {\n",
       "        vertical-align: middle;\n",
       "    }\n",
       "\n",
       "    .dataframe tbody tr th {\n",
       "        vertical-align: top;\n",
       "    }\n",
       "\n",
       "    .dataframe thead th {\n",
       "        text-align: right;\n",
       "    }\n",
       "</style>\n",
       "<table border=\"1\" class=\"dataframe\">\n",
       "  <thead>\n",
       "    <tr style=\"text-align: right;\">\n",
       "      <th></th>\n",
       "      <th>Standort</th>\n",
       "      <th>von_Tag</th>\n",
       "      <th>von_Zeit</th>\n",
       "      <th>bis_Tag</th>\n",
       "      <th>bis_Zeit</th>\n",
       "      <th>Birke</th>\n",
       "      <th>Erle</th>\n",
       "      <th>Hasel</th>\n",
       "      <th>Esche</th>\n",
       "      <th>Roggen</th>\n",
       "      <th>Graeser</th>\n",
       "      <th>Beifuss</th>\n",
       "      <th>Ambrosia</th>\n",
       "    </tr>\n",
       "  </thead>\n",
       "  <tbody>\n",
       "    <tr>\n",
       "      <th>0</th>\n",
       "      <td>Feucht</td>\n",
       "      <td>2021-01-01</td>\n",
       "      <td>00:00:00</td>\n",
       "      <td>2021-01-01</td>\n",
       "      <td>03:00:00</td>\n",
       "      <td>.</td>\n",
       "      <td>.</td>\n",
       "      <td>.</td>\n",
       "      <td>.</td>\n",
       "      <td>.</td>\n",
       "      <td>.</td>\n",
       "      <td>.</td>\n",
       "      <td>.</td>\n",
       "    </tr>\n",
       "    <tr>\n",
       "      <th>1</th>\n",
       "      <td>Feucht</td>\n",
       "      <td>2021-01-01</td>\n",
       "      <td>03:00:00</td>\n",
       "      <td>2021-01-01</td>\n",
       "      <td>06:00:00</td>\n",
       "      <td>.</td>\n",
       "      <td>.</td>\n",
       "      <td>.</td>\n",
       "      <td>.</td>\n",
       "      <td>.</td>\n",
       "      <td>.</td>\n",
       "      <td>.</td>\n",
       "      <td>.</td>\n",
       "    </tr>\n",
       "  </tbody>\n",
       "</table>\n",
       "</div>"
      ],
      "text/plain": [
       "  Standort    von_Tag  von_Zeit    bis_Tag  bis_Zeit Birke Erle Hasel Esche  \\\n",
       "0   Feucht 2021-01-01  00:00:00 2021-01-01  03:00:00     .    .     .     .   \n",
       "1   Feucht 2021-01-01  03:00:00 2021-01-01  06:00:00     .    .     .     .   \n",
       "\n",
       "  Roggen Graeser Beifuss Ambrosia  \n",
       "0      .       .       .        .  \n",
       "1      .       .       .        .  "
      ]
     },
     "execution_count": 50,
     "metadata": {},
     "output_type": "execute_result"
    }
   ],
   "source": [
    "pollen_data.head(2)"
   ]
  },
  {
   "cell_type": "code",
   "execution_count": 54,
   "id": "028e5f6c",
   "metadata": {},
   "outputs": [
    {
     "data": {
      "text/html": [
       "<div>\n",
       "<style scoped>\n",
       "    .dataframe tbody tr th:only-of-type {\n",
       "        vertical-align: middle;\n",
       "    }\n",
       "\n",
       "    .dataframe tbody tr th {\n",
       "        vertical-align: top;\n",
       "    }\n",
       "\n",
       "    .dataframe thead th {\n",
       "        text-align: right;\n",
       "    }\n",
       "</style>\n",
       "<table border=\"1\" class=\"dataframe\">\n",
       "  <thead>\n",
       "    <tr style=\"text-align: right;\">\n",
       "      <th></th>\n",
       "      <th>einwohner</th>\n",
       "      <th>note</th>\n",
       "      <th>plz</th>\n",
       "      <th>NUTS_ID</th>\n",
       "      <th>NUTS_NAME</th>\n",
       "      <th>geometry</th>\n",
       "    </tr>\n",
       "  </thead>\n",
       "  <tbody>\n",
       "    <tr>\n",
       "      <th>64</th>\n",
       "      <td>12400</td>\n",
       "      <td>90537 Nrnberg-Feucht, Feuchter Forst</td>\n",
       "      <td>90537</td>\n",
       "      <td>DE246</td>\n",
       "      <td>Bayreuth, Landkreis</td>\n",
       "      <td>POLYGON ((11.15715 49.38534, 11.16543 49.38449...</td>\n",
       "    </tr>\n",
       "    <tr>\n",
       "      <th>207</th>\n",
       "      <td>12095</td>\n",
       "      <td>91555 Feuchtwangen</td>\n",
       "      <td>91555</td>\n",
       "      <td>DE246</td>\n",
       "      <td>Bayreuth, Landkreis</td>\n",
       "      <td>POLYGON ((10.23036 49.21021, 10.23030 49.21028...</td>\n",
       "    </tr>\n",
       "  </tbody>\n",
       "</table>\n",
       "</div>"
      ],
      "text/plain": [
       "     einwohner                                  note    plz NUTS_ID  \\\n",
       "64       12400  90537 Nrnberg-Feucht, Feuchter Forst  90537   DE246   \n",
       "207      12095                    91555 Feuchtwangen  91555   DE246   \n",
       "\n",
       "               NUTS_NAME                                           geometry  \n",
       "64   Bayreuth, Landkreis  POLYGON ((11.15715 49.38534, 11.16543 49.38449...  \n",
       "207  Bayreuth, Landkreis  POLYGON ((10.23036 49.21021, 10.23030 49.21028...  "
      ]
     },
     "execution_count": 54,
     "metadata": {},
     "output_type": "execute_result"
    }
   ],
   "source": [
    "geo_nurn[geo_nurn['note'].str.contains('Feucht')]"
   ]
  },
  {
   "cell_type": "code",
   "execution_count": null,
   "id": "9e040b9d",
   "metadata": {},
   "outputs": [],
   "source": []
  }
 ],
 "metadata": {
  "kernelspec": {
   "display_name": "Python 3 (ipykernel)",
   "language": "python",
   "name": "python3"
  },
  "language_info": {
   "codemirror_mode": {
    "name": "ipython",
    "version": 3
   },
   "file_extension": ".py",
   "mimetype": "text/x-python",
   "name": "python",
   "nbconvert_exporter": "python",
   "pygments_lexer": "ipython3",
   "version": "3.10.2"
  }
 },
 "nbformat": 4,
 "nbformat_minor": 5
}
