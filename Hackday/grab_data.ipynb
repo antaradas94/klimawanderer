{
 "cells": [
  {
   "cell_type": "code",
   "execution_count": 2,
   "metadata": {},
   "outputs": [],
   "source": [
    "# Import necessary packages in python\n",
    "import pandas as pd\n",
    "import numpy as np\n",
    "import geopandas as gpd\n",
    "import glob\n",
    "\n",
    "# Open csv file as dataframe\n",
    "path_in = 'data' #define input path\n",
    "df_poll= pd.read_csv(f'{path_in}/PM2_5_daily_max_df_2020_Nuerberg.csv', dtype={'plz': str}, index_col= 0)\n",
    "\n",
    "# Select specific plz\n",
    "#plz = '07366' # PLZ of interest\n",
    "#df_poll[df_poll['plz'] == '07366']\n",
    "\n",
    "# Column names to datetime format ( excluding 'plz' column)\n",
    "#time = pd.to_datetime(df_poll.columns[1:])\n",
    "\n",
    "# Read geojson file with geographical information\n",
    "#shdf = gpd.read_file(f'{path_in}\\Nuerberg_MR_plz.geojson')\t"
   ]
  },
  {
   "cell_type": "code",
   "execution_count": 5,
   "metadata": {},
   "outputs": [],
   "source": [
    "csv_files = glob.glob(path_in + \"/*.csv\")\n",
    "csv_files = ['data\\\\2mT_df_max_daily_2020_Nuerberg.csv',\n",
    " 'data\\\\2mT_df_mean_daily_2020_Nuerberg.csv',\n",
    " 'data\\\\ARI_daily_df_2020_Nuerberg.csv',\n",
    " 'data\\\\NO2_daily_max_df_2020_Nuerberg.csv',\n",
    " 'data\\\\NO2_daily_mean_df_2020_Nuerberg.csv',\n",
    " 'data\\\\NO2_daily_std_df_2020_Nuerberg.csv',\n",
    " 'data\\\\O3_daily_max_df_2020_Nuerberg.csv',\n",
    " 'data\\\\O3_daily_mean_df_2020_Nuerberg.csv',\n",
    " 'data\\\\O3_daily_std_df_2020_Nuerberg.csv',\n",
    " 'data\\\\PM10_daily_max_df_2020_Nuerberg.csv',\n",
    " 'data\\\\PM10_daily_mean_df_2020_Nuerberg.csv',\n",
    " 'data\\\\PM10_daily_std_df_2020_Nuerberg.csv',\n",
    " 'data\\\\PM2_5_daily_max_df_2020_Nuerberg.csv',\n",
    " 'data\\\\PM2_5_daily_mean_df_2020_Nuerberg.csv',\n",
    " 'data\\\\PM2_5_daily_std_df_2020_Nuerberg.csv',\n",
    " 'data\\\\SO2_daily_max_df_2020_Nuerberg.csv',\n",
    " 'data\\\\SO2_daily_mean_df_2020_Nuerberg.csv',\n",
    " 'data\\\\SO2_daily_std_df_2020_Nuerberg.csv',\n",
    " 'data\\\\Tot_prec_daily_df_2020_Nuerberg.csv',\n",
    " 'data\\\\ePIN Pollendaten Hackday_3_Feucht_LGL.csv'\n",
    " ] ##"
   ]
  },
  {
   "cell_type": "code",
   "execution_count": 6,
   "metadata": {},
   "outputs": [
    {
     "name": "stdout",
     "output_type": "stream",
     "text": [
      "['data\\\\2mT_df_max_daily_2020_Nuerberg.csv', 'data\\\\2mT_df_mean_daily_2020_Nuerberg.csv', 'data\\\\ARI_daily_df_2020_Nuerberg.csv', 'data\\\\NO2_daily_max_df_2020_Nuerberg.csv', 'data\\\\NO2_daily_mean_df_2020_Nuerberg.csv', 'data\\\\NO2_daily_std_df_2020_Nuerberg.csv', 'data\\\\O3_daily_max_df_2020_Nuerberg.csv', 'data\\\\O3_daily_mean_df_2020_Nuerberg.csv', 'data\\\\O3_daily_std_df_2020_Nuerberg.csv', 'data\\\\PM10_daily_mean_df_2020_Nuerberg.csv', 'data\\\\PM10_daily_std_df_2020_Nuerberg.csv', 'data\\\\PM2_5_daily_max_df_2020_Nuerberg.csv', 'data\\\\PM2_5_daily_mean_df_2020_Nuerberg.csv', 'data\\\\PM2_5_daily_std_df_2020_Nuerberg.csv', 'data\\\\SO2_daily_max_df_2020_Nuerberg.csv', 'data\\\\SO2_daily_mean_df_2020_Nuerberg.csv', 'data\\\\SO2_daily_std_df_2020_Nuerberg.csv', 'data\\\\Tot_prec_daily_df_2020_Nuerberg.csv']\n"
     ]
    }
   ],
   "source": [
    "df_dict = dict()\n",
    "data_with_plz = []\n",
    "for f in csv_files:\n",
    "    df_dict[f] = pd.read_csv(f,on_bad_lines='skip')\n",
    "    if 'plz' in df_dict[f].columns:\n",
    "        data_with_plz.append(f)\n",
    "print(data_with_plz)"
   ]
  },
  {
   "cell_type": "code",
   "execution_count": 7,
   "metadata": {},
   "outputs": [],
   "source": [
    "ari = pd.read_csv('data/ARI_daily_df_2020_Nuerberg.csv')    "
   ]
  },
  {
   "cell_type": "code",
   "execution_count": 34,
   "metadata": {},
   "outputs": [
    {
     "data": {
      "text/html": [
       "<div>\n",
       "<style scoped>\n",
       "    .dataframe tbody tr th:only-of-type {\n",
       "        vertical-align: middle;\n",
       "    }\n",
       "\n",
       "    .dataframe tbody tr th {\n",
       "        vertical-align: top;\n",
       "    }\n",
       "\n",
       "    .dataframe thead th {\n",
       "        text-align: right;\n",
       "    }\n",
       "</style>\n",
       "<table border=\"1\" class=\"dataframe\">\n",
       "  <thead>\n",
       "    <tr style=\"text-align: right;\">\n",
       "      <th></th>\n",
       "      <th>Standort</th>\n",
       "      <th>von_Tag</th>\n",
       "      <th>von_Zeit</th>\n",
       "      <th>bis_Tag</th>\n",
       "      <th>bis_Zeit</th>\n",
       "      <th>Birke</th>\n",
       "      <th>Erle</th>\n",
       "      <th>Hasel</th>\n",
       "      <th>Esche</th>\n",
       "      <th>Roggen</th>\n",
       "      <th>Graeser</th>\n",
       "      <th>Beifuss</th>\n",
       "      <th>Ambrosia</th>\n",
       "      <th>Unnamed: 13</th>\n",
       "    </tr>\n",
       "  </thead>\n",
       "  <tbody>\n",
       "    <tr>\n",
       "      <th>2915</th>\n",
       "      <td>Feucht</td>\n",
       "      <td>31.12.2021</td>\n",
       "      <td>09:00:00</td>\n",
       "      <td>31.12.2021</td>\n",
       "      <td>12:00:00</td>\n",
       "      <td>0</td>\n",
       "      <td>0</td>\n",
       "      <td>0</td>\n",
       "      <td>0</td>\n",
       "      <td>0</td>\n",
       "      <td>0</td>\n",
       "      <td>0</td>\n",
       "      <td>0</td>\n",
       "      <td>NaN</td>\n",
       "    </tr>\n",
       "    <tr>\n",
       "      <th>2916</th>\n",
       "      <td>Feucht</td>\n",
       "      <td>31.12.2021</td>\n",
       "      <td>12:00:00</td>\n",
       "      <td>31.12.2021</td>\n",
       "      <td>15:00:00</td>\n",
       "      <td>0</td>\n",
       "      <td>0,66</td>\n",
       "      <td>0</td>\n",
       "      <td>0</td>\n",
       "      <td>0</td>\n",
       "      <td>0</td>\n",
       "      <td>0</td>\n",
       "      <td>0</td>\n",
       "      <td>NaN</td>\n",
       "    </tr>\n",
       "    <tr>\n",
       "      <th>2917</th>\n",
       "      <td>Feucht</td>\n",
       "      <td>31.12.2021</td>\n",
       "      <td>15:00:00</td>\n",
       "      <td>31.12.2021</td>\n",
       "      <td>18:00:00</td>\n",
       "      <td>0</td>\n",
       "      <td>0</td>\n",
       "      <td>0</td>\n",
       "      <td>0</td>\n",
       "      <td>0</td>\n",
       "      <td>0</td>\n",
       "      <td>0</td>\n",
       "      <td>0</td>\n",
       "      <td>NaN</td>\n",
       "    </tr>\n",
       "    <tr>\n",
       "      <th>2918</th>\n",
       "      <td>Feucht</td>\n",
       "      <td>31.12.2021</td>\n",
       "      <td>18:00:00</td>\n",
       "      <td>31.12.2021</td>\n",
       "      <td>21:00:00</td>\n",
       "      <td>.</td>\n",
       "      <td>.</td>\n",
       "      <td>.</td>\n",
       "      <td>.</td>\n",
       "      <td>.</td>\n",
       "      <td>.</td>\n",
       "      <td>.</td>\n",
       "      <td>.</td>\n",
       "      <td>NaN</td>\n",
       "    </tr>\n",
       "    <tr>\n",
       "      <th>2919</th>\n",
       "      <td>Feucht</td>\n",
       "      <td>31.12.2021</td>\n",
       "      <td>21:00:00</td>\n",
       "      <td>01.01.2022</td>\n",
       "      <td>00:00:00</td>\n",
       "      <td>.</td>\n",
       "      <td>.</td>\n",
       "      <td>.</td>\n",
       "      <td>.</td>\n",
       "      <td>.</td>\n",
       "      <td>.</td>\n",
       "      <td>.</td>\n",
       "      <td>.</td>\n",
       "      <td>NaN</td>\n",
       "    </tr>\n",
       "  </tbody>\n",
       "</table>\n",
       "</div>"
      ],
      "text/plain": [
       "     Standort     von_Tag  von_Zeit     bis_Tag  bis_Zeit Birke  Erle Hasel  \\\n",
       "2915   Feucht  31.12.2021  09:00:00  31.12.2021  12:00:00     0     0     0   \n",
       "2916   Feucht  31.12.2021  12:00:00  31.12.2021  15:00:00     0  0,66     0   \n",
       "2917   Feucht  31.12.2021  15:00:00  31.12.2021  18:00:00     0     0     0   \n",
       "2918   Feucht  31.12.2021  18:00:00  31.12.2021  21:00:00     .     .     .   \n",
       "2919   Feucht  31.12.2021  21:00:00  01.01.2022  00:00:00     .     .     .   \n",
       "\n",
       "     Esche Roggen Graeser Beifuss Ambrosia Unnamed: 13  \n",
       "2915     0      0       0       0        0         NaN  \n",
       "2916     0      0       0       0        0         NaN  \n",
       "2917     0      0       0       0        0         NaN  \n",
       "2918     .      .       .       .        .         NaN  \n",
       "2919     .      .       .       .        .         NaN  "
      ]
     },
     "execution_count": 34,
     "metadata": {},
     "output_type": "execute_result"
    }
   ],
   "source": [
    " pollen_data = pd.read_csv('data/ePIN Pollendaten Hackday_3_Feucht_LGL.csv', sep=';')\n",
    " pollen_data.tail(5)"
   ]
  },
  {
   "cell_type": "code",
   "execution_count": 35,
   "metadata": {},
   "outputs": [],
   "source": [
    "pollen_data = pollen_data.drop(columns=['Unnamed: 13'])"
   ]
  },
  {
   "cell_type": "code",
   "execution_count": 36,
   "metadata": {},
   "outputs": [
    {
     "data": {
      "text/plain": [
       "Feucht    2919\n",
       "Name: Standort, dtype: int64"
      ]
     },
     "execution_count": 36,
     "metadata": {},
     "output_type": "execute_result"
    }
   ],
   "source": [
    "pollen_data.Standort.value_counts()"
   ]
  },
  {
   "cell_type": "code",
   "execution_count": 37,
   "metadata": {},
   "outputs": [
    {
     "data": {
      "text/plain": [
       "'31.12.2021'"
      ]
     },
     "execution_count": 37,
     "metadata": {},
     "output_type": "execute_result"
    }
   ],
   "source": [
    "pollen_data.von_Tag.max()"
   ]
  },
  {
   "cell_type": "code",
   "execution_count": 12,
   "metadata": {},
   "outputs": [],
   "source": [
    "import numpy as np\n",
    "import pandas as pd\n",
    "import datetime\n",
    "from sklearn import linear_model"
   ]
  },
  {
   "cell_type": "code",
   "execution_count": 13,
   "metadata": {},
   "outputs": [],
   "source": [
    "age = 60\n",
    "wt = 90\n",
    "height = 175\n",
    "obese = 1"
   ]
  },
  {
   "cell_type": "code",
   "execution_count": 71,
   "metadata": {},
   "outputs": [
    {
     "data": {
      "text/html": [
       "<div>\n",
       "<style scoped>\n",
       "    .dataframe tbody tr th:only-of-type {\n",
       "        vertical-align: middle;\n",
       "    }\n",
       "\n",
       "    .dataframe tbody tr th {\n",
       "        vertical-align: top;\n",
       "    }\n",
       "\n",
       "    .dataframe thead th {\n",
       "        text-align: right;\n",
       "    }\n",
       "</style>\n",
       "<table border=\"1\" class=\"dataframe\">\n",
       "  <thead>\n",
       "    <tr style=\"text-align: right;\">\n",
       "      <th></th>\n",
       "      <th>Date</th>\n",
       "      <th>Activity Id</th>\n",
       "      <th>Type</th>\n",
       "      <th>Route Name</th>\n",
       "      <th>Distance (km)</th>\n",
       "      <th>Duration</th>\n",
       "      <th>Average Pace</th>\n",
       "      <th>Average Speed (km/h)</th>\n",
       "      <th>Calories Burned</th>\n",
       "      <th>Climb (m)</th>\n",
       "      <th>Average Heart Rate (bpm)</th>\n",
       "      <th>Friend's Tagged</th>\n",
       "      <th>Notes</th>\n",
       "      <th>GPX File</th>\n",
       "    </tr>\n",
       "  </thead>\n",
       "  <tbody>\n",
       "    <tr>\n",
       "      <th>0</th>\n",
       "      <td>2018-11-11 14:05:12</td>\n",
       "      <td>c9627fed-14ac-47a2-bed3-2a2630c63c15</td>\n",
       "      <td>Running</td>\n",
       "      <td>NaN</td>\n",
       "      <td>10.44</td>\n",
       "      <td>58:40</td>\n",
       "      <td>5:37</td>\n",
       "      <td>10.68</td>\n",
       "      <td>774.0</td>\n",
       "      <td>130</td>\n",
       "      <td>159.0</td>\n",
       "      <td>NaN</td>\n",
       "      <td>NaN</td>\n",
       "      <td>2018-11-11-140512.gpx</td>\n",
       "    </tr>\n",
       "  </tbody>\n",
       "</table>\n",
       "</div>"
      ],
      "text/plain": [
       "                  Date                           Activity Id     Type  \\\n",
       "0  2018-11-11 14:05:12  c9627fed-14ac-47a2-bed3-2a2630c63c15  Running   \n",
       "\n",
       "  Route Name  Distance (km) Duration Average Pace  Average Speed (km/h)  \\\n",
       "0        NaN          10.44    58:40         5:37                 10.68   \n",
       "\n",
       "   Calories Burned  Climb (m)  Average Heart Rate (bpm)  Friend's Tagged  \\\n",
       "0            774.0        130                     159.0              NaN   \n",
       "\n",
       "  Notes               GPX File  \n",
       "0   NaN  2018-11-11-140512.gpx  "
      ]
     },
     "execution_count": 71,
     "metadata": {},
     "output_type": "execute_result"
    }
   ],
   "source": [
    "fitness  = pd.read_csv('cardioActivities.csv')\n",
    "fitness.head(1)"
   ]
  },
  {
   "cell_type": "code",
   "execution_count": 72,
   "metadata": {},
   "outputs": [],
   "source": [
    "#fitness['Date'] = pd.to_datetime(fitness['Date'])"
   ]
  },
  {
   "cell_type": "code",
   "execution_count": 74,
   "metadata": {},
   "outputs": [
    {
     "data": {
      "text/plain": [
       "0      2018-11-11 14:05:12\n",
       "1      2018-11-09 15:02:35\n",
       "2      2018-11-04 16:05:00\n",
       "3      2018-11-01 14:03:58\n",
       "4      2018-10-27 17:01:36\n",
       "              ...         \n",
       "503    2012-08-28 07:06:57\n",
       "504    2012-08-24 12:59:42\n",
       "505    2012-08-24 10:12:16\n",
       "506    2012-08-24 08:13:12\n",
       "507    2012-08-22 18:53:54\n",
       "Name: Date, Length: 508, dtype: object"
      ]
     },
     "execution_count": 74,
     "metadata": {},
     "output_type": "execute_result"
    }
   ],
   "source": [
    "fitness['Date'].astype('str')"
   ]
  },
  {
   "cell_type": "code",
   "execution_count": 79,
   "metadata": {},
   "outputs": [],
   "source": [
    "#fitness['new_date'] = [d.date() for d in fitness['Date']]\n",
    "#fitness['new_time'] = [d.time() for d in fitness['Date']]\n",
    "\n",
    "fitness[['new_date', 'new_time']] = fitness['Date'].str.split(' ',expand=True)\n",
    "#fitness['new_time'] = "
   ]
  },
  {
   "cell_type": "code",
   "execution_count": 80,
   "metadata": {},
   "outputs": [
    {
     "data": {
      "text/html": [
       "<div>\n",
       "<style scoped>\n",
       "    .dataframe tbody tr th:only-of-type {\n",
       "        vertical-align: middle;\n",
       "    }\n",
       "\n",
       "    .dataframe tbody tr th {\n",
       "        vertical-align: top;\n",
       "    }\n",
       "\n",
       "    .dataframe thead th {\n",
       "        text-align: right;\n",
       "    }\n",
       "</style>\n",
       "<table border=\"1\" class=\"dataframe\">\n",
       "  <thead>\n",
       "    <tr style=\"text-align: right;\">\n",
       "      <th></th>\n",
       "      <th>Date</th>\n",
       "      <th>Activity Id</th>\n",
       "      <th>Type</th>\n",
       "      <th>Route Name</th>\n",
       "      <th>Distance (km)</th>\n",
       "      <th>Duration</th>\n",
       "      <th>Average Pace</th>\n",
       "      <th>Average Speed (km/h)</th>\n",
       "      <th>Calories Burned</th>\n",
       "      <th>Climb (m)</th>\n",
       "      <th>Average Heart Rate (bpm)</th>\n",
       "      <th>Friend's Tagged</th>\n",
       "      <th>Notes</th>\n",
       "      <th>GPX File</th>\n",
       "      <th>new_date</th>\n",
       "      <th>new_time</th>\n",
       "    </tr>\n",
       "  </thead>\n",
       "  <tbody>\n",
       "    <tr>\n",
       "      <th>506</th>\n",
       "      <td>2012-08-24 08:13:12</td>\n",
       "      <td>f790bdb2-b921-4018-bd39-d59d870c5847</td>\n",
       "      <td>Running</td>\n",
       "      <td>NaN</td>\n",
       "      <td>3.15</td>\n",
       "      <td>16:00</td>\n",
       "      <td>5:05</td>\n",
       "      <td>11.82</td>\n",
       "      <td>2288868.0</td>\n",
       "      <td>17</td>\n",
       "      <td>NaN</td>\n",
       "      <td>NaN</td>\n",
       "      <td>NaN</td>\n",
       "      <td>2012-08-24-081312.gpx</td>\n",
       "      <td>2012-08-24</td>\n",
       "      <td>08:13:12</td>\n",
       "    </tr>\n",
       "    <tr>\n",
       "      <th>507</th>\n",
       "      <td>2012-08-22 18:53:54</td>\n",
       "      <td>706d4d6b-767d-40aa-81c9-e5e85a102051</td>\n",
       "      <td>Running</td>\n",
       "      <td>NaN</td>\n",
       "      <td>5.69</td>\n",
       "      <td>31:08</td>\n",
       "      <td>5:29</td>\n",
       "      <td>10.95</td>\n",
       "      <td>4072685.0</td>\n",
       "      <td>32</td>\n",
       "      <td>NaN</td>\n",
       "      <td>NaN</td>\n",
       "      <td>NaN</td>\n",
       "      <td>2012-08-22-185354.gpx</td>\n",
       "      <td>2012-08-22</td>\n",
       "      <td>18:53:54</td>\n",
       "    </tr>\n",
       "  </tbody>\n",
       "</table>\n",
       "</div>"
      ],
      "text/plain": [
       "                    Date                           Activity Id     Type  \\\n",
       "506  2012-08-24 08:13:12  f790bdb2-b921-4018-bd39-d59d870c5847  Running   \n",
       "507  2012-08-22 18:53:54  706d4d6b-767d-40aa-81c9-e5e85a102051  Running   \n",
       "\n",
       "    Route Name  Distance (km) Duration Average Pace  Average Speed (km/h)  \\\n",
       "506        NaN           3.15    16:00         5:05                 11.82   \n",
       "507        NaN           5.69    31:08         5:29                 10.95   \n",
       "\n",
       "     Calories Burned  Climb (m)  Average Heart Rate (bpm)  Friend's Tagged  \\\n",
       "506        2288868.0         17                       NaN              NaN   \n",
       "507        4072685.0         32                       NaN              NaN   \n",
       "\n",
       "    Notes               GPX File    new_date  new_time  \n",
       "506   NaN  2012-08-24-081312.gpx  2012-08-24  08:13:12  \n",
       "507   NaN  2012-08-22-185354.gpx  2012-08-22  18:53:54  "
      ]
     },
     "execution_count": 80,
     "metadata": {},
     "output_type": "execute_result"
    }
   ],
   "source": [
    "fitness.tail(2)"
   ]
  },
  {
   "cell_type": "code",
   "execution_count": 81,
   "metadata": {},
   "outputs": [],
   "source": [
    "#fitness['new_time'] = fitness['new_time'].astype('object')"
   ]
  },
  {
   "cell_type": "code",
   "execution_count": 82,
   "metadata": {},
   "outputs": [],
   "source": [
    "\n",
    "\n",
    "#fitness['new_time'] = fitness['new_time'].to_string()"
   ]
  },
  {
   "cell_type": "code",
   "execution_count": 83,
   "metadata": {},
   "outputs": [
    {
     "data": {
      "text/html": [
       "<div>\n",
       "<style scoped>\n",
       "    .dataframe tbody tr th:only-of-type {\n",
       "        vertical-align: middle;\n",
       "    }\n",
       "\n",
       "    .dataframe tbody tr th {\n",
       "        vertical-align: top;\n",
       "    }\n",
       "\n",
       "    .dataframe thead th {\n",
       "        text-align: right;\n",
       "    }\n",
       "</style>\n",
       "<table border=\"1\" class=\"dataframe\">\n",
       "  <thead>\n",
       "    <tr style=\"text-align: right;\">\n",
       "      <th></th>\n",
       "      <th>Date</th>\n",
       "      <th>Activity Id</th>\n",
       "      <th>Type</th>\n",
       "      <th>Route Name</th>\n",
       "      <th>Distance (km)</th>\n",
       "      <th>Duration</th>\n",
       "      <th>Average Pace</th>\n",
       "      <th>Average Speed (km/h)</th>\n",
       "      <th>Calories Burned</th>\n",
       "      <th>Climb (m)</th>\n",
       "      <th>Average Heart Rate (bpm)</th>\n",
       "      <th>Friend's Tagged</th>\n",
       "      <th>Notes</th>\n",
       "      <th>GPX File</th>\n",
       "      <th>new_date</th>\n",
       "      <th>new_time</th>\n",
       "    </tr>\n",
       "  </thead>\n",
       "  <tbody>\n",
       "    <tr>\n",
       "      <th>506</th>\n",
       "      <td>2012-08-24 08:13:12</td>\n",
       "      <td>f790bdb2-b921-4018-bd39-d59d870c5847</td>\n",
       "      <td>Running</td>\n",
       "      <td>NaN</td>\n",
       "      <td>3.15</td>\n",
       "      <td>16:00</td>\n",
       "      <td>5:05</td>\n",
       "      <td>11.82</td>\n",
       "      <td>2288868.0</td>\n",
       "      <td>17</td>\n",
       "      <td>NaN</td>\n",
       "      <td>NaN</td>\n",
       "      <td>NaN</td>\n",
       "      <td>2012-08-24-081312.gpx</td>\n",
       "      <td>2012-08-24</td>\n",
       "      <td>08:13:12</td>\n",
       "    </tr>\n",
       "  </tbody>\n",
       "</table>\n",
       "</div>"
      ],
      "text/plain": [
       "                    Date                           Activity Id     Type  \\\n",
       "506  2012-08-24 08:13:12  f790bdb2-b921-4018-bd39-d59d870c5847  Running   \n",
       "\n",
       "    Route Name  Distance (km) Duration Average Pace  Average Speed (km/h)  \\\n",
       "506        NaN           3.15    16:00         5:05                 11.82   \n",
       "\n",
       "     Calories Burned  Climb (m)  Average Heart Rate (bpm)  Friend's Tagged  \\\n",
       "506        2288868.0         17                       NaN              NaN   \n",
       "\n",
       "    Notes               GPX File    new_date  new_time  \n",
       "506   NaN  2012-08-24-081312.gpx  2012-08-24  08:13:12  "
      ]
     },
     "execution_count": 83,
     "metadata": {},
     "output_type": "execute_result"
    }
   ],
   "source": [
    "fitness[fitness['new_time'] == '08:13:12']"
   ]
  },
  {
   "cell_type": "code",
   "execution_count": 38,
   "metadata": {},
   "outputs": [
    {
     "data": {
      "text/plain": [
       "Index(['Standort', 'von_Tag', 'von_Zeit', 'bis_Tag', 'bis_Zeit', 'Birke',\n",
       "       'Erle', 'Hasel', 'Esche', 'Roggen', 'Graeser', 'Beifuss', 'Ambrosia'],\n",
       "      dtype='object')"
      ]
     },
     "execution_count": 38,
     "metadata": {},
     "output_type": "execute_result"
    }
   ],
   "source": [
    "## analyzing time data from pollen data, fitness data and other dataframes\n",
    "pollen_data.columns\n",
    "\n",
    "#pollen_data['von_Zeit'] = pd.to_datetime(pollen_data['von_Zeit'])\n",
    "#pollen_data['bis_Zeit'] = pd.to_datetime(pollen_data['bis_Zeit'])\n"
   ]
  },
  {
   "cell_type": "code",
   "execution_count": null,
   "metadata": {},
   "outputs": [],
   "source": []
  },
  {
   "cell_type": "code",
   "execution_count": 57,
   "metadata": {},
   "outputs": [
    {
     "data": {
      "text/plain": [
       "dtype('O')"
      ]
     },
     "execution_count": 57,
     "metadata": {},
     "output_type": "execute_result"
    }
   ],
   "source": [
    "pollen_data['von_Zeit'].dtypes"
   ]
  },
  {
   "cell_type": "code",
   "execution_count": 92,
   "metadata": {},
   "outputs": [],
   "source": [
    "timings = pollen_data['von_Zeit'].value_counts()"
   ]
  },
  {
   "cell_type": "code",
   "execution_count": 93,
   "metadata": {},
   "outputs": [
    {
     "data": {
      "text/plain": [
       "00:00:00    365\n",
       "03:00:00    365\n",
       "06:00:00    365\n",
       "09:00:00    365\n",
       "12:00:00    365\n",
       "15:00:00    365\n",
       "18:00:00    365\n",
       "21:00:00    365\n",
       "Name: von_Zeit, dtype: int64"
      ]
     },
     "execution_count": 93,
     "metadata": {},
     "output_type": "execute_result"
    }
   ],
   "source": [
    "## pollen timing\n",
    "timings"
   ]
  },
  {
   "cell_type": "code",
   "execution_count": 95,
   "metadata": {},
   "outputs": [],
   "source": [
    "import matplotlib.pyplot as plt"
   ]
  },
  {
   "cell_type": "code",
   "execution_count": 108,
   "metadata": {},
   "outputs": [],
   "source": [
    "#fitness['new_time']\n",
    "fitness['new_time_'] = pd.to_datetime(fitness['new_time'])"
   ]
  },
  {
   "cell_type": "code",
   "execution_count": 109,
   "metadata": {},
   "outputs": [
    {
     "data": {
      "text/plain": [
       "Timestamp('2022-07-06 04:02:00')"
      ]
     },
     "execution_count": 109,
     "metadata": {},
     "output_type": "execute_result"
    }
   ],
   "source": [
    "fitness['new_time_'].min()"
   ]
  },
  {
   "cell_type": "code",
   "execution_count": 110,
   "metadata": {},
   "outputs": [
    {
     "data": {
      "text/plain": [
       "Timestamp('2022-07-06 21:48:44')"
      ]
     },
     "execution_count": 110,
     "metadata": {},
     "output_type": "execute_result"
    }
   ],
   "source": [
    "fitness['new_time_'].max()"
   ]
  },
  {
   "cell_type": "code",
   "execution_count": 114,
   "metadata": {},
   "outputs": [],
   "source": [
    "fitness['new_time_split'] = [d.time() for d in fitness['new_time_']]"
   ]
  },
  {
   "cell_type": "code",
   "execution_count": 118,
   "metadata": {},
   "outputs": [
    {
     "data": {
      "text/plain": [
       "(array([48., 49., 49., 52., 51., 49., 63., 50., 48., 49.]),\n",
       " array([  0. ,  47.5,  95. , 142.5, 190. , 237.5, 285. , 332.5, 380. ,\n",
       "        427.5, 475. ]),\n",
       " <BarContainer object of 10 artists>)"
      ]
     },
     "execution_count": 118,
     "metadata": {},
     "output_type": "execute_result"
    },
    {
     "data": {
      "image/png": "[encoded data removed]",
      "text/plain": [
       "<Figure size 432x288 with 1 Axes>"
      ]
     },
     "metadata": {
      "needs_background": "light"
     },
     "output_type": "display_data"
    }
   ],
   "source": [
    "plt.hist(fitness['new_time'])\n",
    "#plt.xticks(fontsize= 8, rotation= 90)"
   ]
  },
  {
   "cell_type": "code",
   "execution_count": 129,
   "metadata": {},
   "outputs": [
    {
     "data": {
      "text/plain": [
       "18:10:00    6\n",
       "18:18:00    5\n",
       "17:50:00    5\n",
       "18:30:00    5\n",
       "18:34:53    2\n",
       "           ..\n",
       "18:19:37    1\n",
       "18:04:30    1\n",
       "18:39:10    1\n",
       "18:47:36    1\n",
       "18:53:54    1\n",
       "Name: new_time, Length: 476, dtype: int64"
      ]
     },
     "execution_count": 129,
     "metadata": {},
     "output_type": "execute_result"
    }
   ],
   "source": [
    "\n",
    "frequency  = fitness['new_time'].value_counts()\n",
    "len(frequency)\n",
    "frequency"
   ]
  },
  {
   "cell_type": "code",
   "execution_count": 138,
   "metadata": {},
   "outputs": [
    {
     "name": "stderr",
     "output_type": "stream",
     "text": [
      "C:\\Users\\antara.das\\AppData\\Local\\Temp\\ipykernel_3440\\524809062.py:13: UserWarning: FixedFormatter should only be used together with FixedLocator\n",
      "  ax.set_xticklabels(labels)\n"
     ]
    },
    {
     "data": {
      "image/png": "[encoded data removed]",
      "text/plain": [
       "<Figure size 432x288 with 1 Axes>"
      ]
     },
     "metadata": {
      "needs_background": "light"
     },
     "output_type": "display_data"
    }
   ],
   "source": [
    "fig, ax = plt.subplots()\n",
    "\n",
    "\n",
    "labels = ['17:00:00', '18:00:00', '19:00:00', '20:00:00', '21:00:00', '22:00:00']\n",
    "plt.hist(frequency, color='#02b796')\n",
    "ax.spines['top'].set_visible(False)\n",
    "ax.spines['right'].set_visible(False) \n",
    "#ax.spines['bottom'].set_visible(False)\n",
    "#ax.spines['left'].set_visible(False)\n",
    "ax.set_facecolor(\"white\")\n",
    "plt.tight_layout()\n",
    "\n",
    "ax.set_xticklabels(labels)\n",
    "\n",
    "plt.show()"
   ]
  },
  {
   "cell_type": "code",
   "execution_count": 130,
   "metadata": {},
   "outputs": [
    {
     "data": {
      "text/plain": [
       "(array([457.,   0.,  15.,   0.,   0.,   0.,   0.,   0.,   3.,   1.]),\n",
       " array([1. , 1.5, 2. , 2.5, 3. , 3.5, 4. , 4.5, 5. , 5.5, 6. ]),\n",
       " <BarContainer object of 10 artists>)"
      ]
     },
     "execution_count": 130,
     "metadata": {},
     "output_type": "execute_result"
    },
    {
     "data": {
      "image/png": "[encoded data removed]",
      "text/plain": [
       "<Figure size 432x288 with 1 Axes>"
      ]
     },
     "metadata": {
      "needs_background": "light"
     },
     "output_type": "display_data"
    }
   ],
   "source": [
    "plt.hist(frequency, label=['18:00:00', '19:00:00', '20:00:00', '21:00:00', '22:00:00', '23:00:00'])"
   ]
  },
  {
   "cell_type": "code",
   "execution_count": 132,
   "metadata": {},
   "outputs": [],
   "source": [
    "#fitness['new_time'].value_counts().plot(kind = 'bar')"
   ]
  },
  {
   "cell_type": "code",
   "execution_count": 36,
   "metadata": {},
   "outputs": [],
   "source": [
    "df_list = (pd.read_csv(file) for file in csv_files)"
   ]
  },
  {
   "cell_type": "code",
   "execution_count": 37,
   "metadata": {},
   "outputs": [
    {
     "data": {
      "text/plain": [
       "<generator object <genexpr> at 0x000002265A634430>"
      ]
     },
     "execution_count": 37,
     "metadata": {},
     "output_type": "execute_result"
    }
   ],
   "source": [
    "df_list"
   ]
  },
  {
   "cell_type": "code",
   "execution_count": 52,
   "metadata": {},
   "outputs": [],
   "source": [
    "import os\n",
    "\n",
    "def get_df():\n",
    "    df=pd.DataFrame()\n",
    "    for file in csv_files:\n",
    "        if file.endswith('.csv'):\n",
    "            aux=pd.read_csv(file,on_bad_lines='skip')\n",
    "            df=df.concat(aux)\n",
    "    return df"
   ]
  },
  {
   "cell_type": "code",
   "execution_count": null,
   "metadata": {},
   "outputs": [],
   "source": [
    "df = get_df()"
   ]
  },
  {
   "cell_type": "code",
   "execution_count": 54,
   "metadata": {},
   "outputs": [
    {
     "data": {
      "text/html": [
       "<div>\n",
       "<style scoped>\n",
       "    .dataframe tbody tr th:only-of-type {\n",
       "        vertical-align: middle;\n",
       "    }\n",
       "\n",
       "    .dataframe tbody tr th {\n",
       "        vertical-align: top;\n",
       "    }\n",
       "\n",
       "    .dataframe thead th {\n",
       "        text-align: right;\n",
       "    }\n",
       "</style>\n",
       "<table border=\"1\" class=\"dataframe\">\n",
       "  <thead>\n",
       "    <tr style=\"text-align: right;\">\n",
       "      <th></th>\n",
       "      <th>Unnamed: 0</th>\n",
       "      <th>plz</th>\n",
       "      <th>20200101</th>\n",
       "      <th>20200102</th>\n",
       "      <th>20200103</th>\n",
       "      <th>20200104</th>\n",
       "      <th>20200105</th>\n",
       "      <th>20200106</th>\n",
       "      <th>20200107</th>\n",
       "      <th>20200108</th>\n",
       "      <th>...</th>\n",
       "      <th>20201222</th>\n",
       "      <th>20201223</th>\n",
       "      <th>20201224</th>\n",
       "      <th>20201225</th>\n",
       "      <th>20201226</th>\n",
       "      <th>20201227</th>\n",
       "      <th>20201228</th>\n",
       "      <th>20201229</th>\n",
       "      <th>20201230</th>\n",
       "      <th>20201231</th>\n",
       "    </tr>\n",
       "  </thead>\n",
       "  <tbody>\n",
       "    <tr>\n",
       "      <th>0</th>\n",
       "      <td>0</td>\n",
       "      <td>7330.0</td>\n",
       "      <td>274.60</td>\n",
       "      <td>274.86</td>\n",
       "      <td>277.64</td>\n",
       "      <td>277.48</td>\n",
       "      <td>274.16</td>\n",
       "      <td>275.06</td>\n",
       "      <td>274.18</td>\n",
       "      <td>276.63</td>\n",
       "      <td>...</td>\n",
       "      <td>282.43</td>\n",
       "      <td>282.41</td>\n",
       "      <td>280.68</td>\n",
       "      <td>273.56</td>\n",
       "      <td>271.59</td>\n",
       "      <td>272.77</td>\n",
       "      <td>274.96</td>\n",
       "      <td>273.98</td>\n",
       "      <td>274.38</td>\n",
       "      <td>273.21</td>\n",
       "    </tr>\n",
       "    <tr>\n",
       "      <th>1</th>\n",
       "      <td>1</td>\n",
       "      <td>7343.0</td>\n",
       "      <td>274.60</td>\n",
       "      <td>274.86</td>\n",
       "      <td>277.64</td>\n",
       "      <td>277.48</td>\n",
       "      <td>274.16</td>\n",
       "      <td>275.06</td>\n",
       "      <td>274.18</td>\n",
       "      <td>276.63</td>\n",
       "      <td>...</td>\n",
       "      <td>282.43</td>\n",
       "      <td>282.41</td>\n",
       "      <td>280.68</td>\n",
       "      <td>273.56</td>\n",
       "      <td>271.59</td>\n",
       "      <td>272.77</td>\n",
       "      <td>274.96</td>\n",
       "      <td>273.98</td>\n",
       "      <td>274.38</td>\n",
       "      <td>273.21</td>\n",
       "    </tr>\n",
       "    <tr>\n",
       "      <th>2</th>\n",
       "      <td>2</td>\n",
       "      <td>7349.0</td>\n",
       "      <td>274.68</td>\n",
       "      <td>275.19</td>\n",
       "      <td>277.72</td>\n",
       "      <td>277.58</td>\n",
       "      <td>274.19</td>\n",
       "      <td>275.23</td>\n",
       "      <td>274.22</td>\n",
       "      <td>276.71</td>\n",
       "      <td>...</td>\n",
       "      <td>282.53</td>\n",
       "      <td>282.46</td>\n",
       "      <td>280.87</td>\n",
       "      <td>273.66</td>\n",
       "      <td>271.78</td>\n",
       "      <td>272.81</td>\n",
       "      <td>275.01</td>\n",
       "      <td>274.15</td>\n",
       "      <td>274.57</td>\n",
       "      <td>273.23</td>\n",
       "    </tr>\n",
       "    <tr>\n",
       "      <th>3</th>\n",
       "      <td>3</td>\n",
       "      <td>7366.0</td>\n",
       "      <td>274.68</td>\n",
       "      <td>275.19</td>\n",
       "      <td>277.72</td>\n",
       "      <td>277.58</td>\n",
       "      <td>274.19</td>\n",
       "      <td>275.23</td>\n",
       "      <td>274.22</td>\n",
       "      <td>276.71</td>\n",
       "      <td>...</td>\n",
       "      <td>282.53</td>\n",
       "      <td>282.46</td>\n",
       "      <td>280.87</td>\n",
       "      <td>273.66</td>\n",
       "      <td>271.78</td>\n",
       "      <td>272.81</td>\n",
       "      <td>275.01</td>\n",
       "      <td>274.15</td>\n",
       "      <td>274.57</td>\n",
       "      <td>273.23</td>\n",
       "    </tr>\n",
       "    <tr>\n",
       "      <th>4</th>\n",
       "      <td>4</td>\n",
       "      <td>7926.0</td>\n",
       "      <td>274.80</td>\n",
       "      <td>275.91</td>\n",
       "      <td>277.87</td>\n",
       "      <td>277.77</td>\n",
       "      <td>274.23</td>\n",
       "      <td>275.56</td>\n",
       "      <td>274.29</td>\n",
       "      <td>276.83</td>\n",
       "      <td>...</td>\n",
       "      <td>282.74</td>\n",
       "      <td>282.71</td>\n",
       "      <td>281.27</td>\n",
       "      <td>273.91</td>\n",
       "      <td>272.19</td>\n",
       "      <td>272.86</td>\n",
       "      <td>275.10</td>\n",
       "      <td>274.55</td>\n",
       "      <td>274.95</td>\n",
       "      <td>273.45</td>\n",
       "    </tr>\n",
       "  </tbody>\n",
       "</table>\n",
       "<p>5 rows × 368 columns</p>\n",
       "</div>"
      ],
      "text/plain": [
       "   Unnamed: 0     plz  20200101  20200102  20200103  20200104  20200105  \\\n",
       "0           0  7330.0    274.60    274.86    277.64    277.48    274.16   \n",
       "1           1  7343.0    274.60    274.86    277.64    277.48    274.16   \n",
       "2           2  7349.0    274.68    275.19    277.72    277.58    274.19   \n",
       "3           3  7366.0    274.68    275.19    277.72    277.58    274.19   \n",
       "4           4  7926.0    274.80    275.91    277.87    277.77    274.23   \n",
       "\n",
       "   20200106  20200107  20200108  ...  20201222  20201223  20201224  20201225  \\\n",
       "0    275.06    274.18    276.63  ...    282.43    282.41    280.68    273.56   \n",
       "1    275.06    274.18    276.63  ...    282.43    282.41    280.68    273.56   \n",
       "2    275.23    274.22    276.71  ...    282.53    282.46    280.87    273.66   \n",
       "3    275.23    274.22    276.71  ...    282.53    282.46    280.87    273.66   \n",
       "4    275.56    274.29    276.83  ...    282.74    282.71    281.27    273.91   \n",
       "\n",
       "   20201226  20201227  20201228  20201229  20201230  20201231  \n",
       "0    271.59    272.77    274.96    273.98    274.38    273.21  \n",
       "1    271.59    272.77    274.96    273.98    274.38    273.21  \n",
       "2    271.78    272.81    275.01    274.15    274.57    273.23  \n",
       "3    271.78    272.81    275.01    274.15    274.57    273.23  \n",
       "4    272.19    272.86    275.10    274.55    274.95    273.45  \n",
       "\n",
       "[5 rows x 368 columns]"
      ]
     },
     "execution_count": 54,
     "metadata": {},
     "output_type": "execute_result"
    }
   ],
   "source": [
    "df.head()"
   ]
  },
  {
   "cell_type": "code",
   "execution_count": 30,
   "metadata": {},
   "outputs": [
    {
     "data": {
      "text/plain": [
       "Index(['Unnamed: 0', 'plz', '20200101', '20200102', '20200103', '20200104',\n",
       "       '20200105', '20200106', '20200107', '20200108',\n",
       "       ...\n",
       "       '20201223', '20201224', '20201225', '20201226', '20201227', '20201228',\n",
       "       '20201229', '20201230', '20201231',\n",
       "       'Standort;von_Tag;von_Zeit;bis_Tag;bis_Zeit;Birke;Erle;Hasel;Esche;Roggen;Graeser;Beifuss;Ambrosia;'],\n",
       "      dtype='object', length=369)"
      ]
     },
     "execution_count": 30,
     "metadata": {},
     "output_type": "execute_result"
    }
   ],
   "source": [
    "df.columns"
   ]
  },
  {
   "cell_type": "code",
   "execution_count": 31,
   "metadata": {},
   "outputs": [],
   "source": [
    "#import dask.dataframe as dd\n",
    "#df = dd.read_csv(path_in + \"/*.csv\")"
   ]
  },
  {
   "cell_type": "code",
   "execution_count": null,
   "metadata": {},
   "outputs": [],
   "source": []
  }
 ],
 "metadata": {
  "kernelspec": {
   "display_name": "Python 3 (ipykernel)",
   "language": "python",
   "name": "python3"
  },
  "language_info": {
   "codemirror_mode": {
    "name": "ipython",
    "version": 3
   },
   "file_extension": ".py",
   "mimetype": "text/x-python",
   "name": "python",
   "nbconvert_exporter": "python",
   "pygments_lexer": "ipython3",
   "version": "3.10.2"
  },
  "vscode": {
   "interpreter": {
    "hash": "142416f1d2213e99d182171d9444389a7a054257db646b6e08d28cbb56de7bef"
   }
  }
 },
 "nbformat": 4,
 "nbformat_minor": 2
}
