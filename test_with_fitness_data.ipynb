{
 "cells": [
  {
   "cell_type": "code",
   "execution_count": 1,
   "id": "2b98be1a",
   "metadata": {},
   "outputs": [],
   "source": [
    "import requests\n",
    "import pandas as pd\n",
    "url = \"https://api.ambeedata.com/latest/by-lat-lng\"\n",
    "querystring = {\"lat\":\"49.45\",\"lng\":\"11.0767\"}\n",
    "headers = {\n",
    "\t'x-api-key': \"87b81af771c4624f163c312186327b1102dd70bf75acde43e0668d007d7a028e\",\n",
    "\t'Content-type': \"application/json\"\n",
    "\t}\n",
    "response = requests.request(\"GET\", url, headers=headers, params=querystring)\n"
   ]
  },
  {
   "cell_type": "code",
   "execution_count": 4,
   "id": "e8c71d0e",
   "metadata": {},
   "outputs": [
    {
     "name": "stdout",
     "output_type": "stream",
     "text": [
      "{'message': 'success', 'stations': [{'CO': 0.098, 'NO2': 9.901, 'OZONE': 33.619, 'PM10': 16.229, 'PM25': 9.766, 'SO2': 0.235, 'city': 'Regierungsbezirk Mittelfranken', 'countryCode': 'DE', 'division': 'Nürnberg', 'lat': 49.4504, 'lng': 11.0778, 'placeName': 'Nürnberg', 'postalCode': '90402', 'state': 'Bayern', 'updatedAt': '2022-07-01T15:00:00.000Z', 'AQI': 41, 'aqiInfo': {'pollutant': 'PM2.5', 'concentration': 9.766, 'category': 'Good'}}]}\n"
     ]
    }
   ],
   "source": [
    "#df = pd.DataFrame(response)\n",
    "str_df = response.json()\n",
    "print(str_df)\n",
    "#print(response.text)"
   ]
  },
  {
   "cell_type": "code",
   "execution_count": 5,
   "id": "ecb64073",
   "metadata": {},
   "outputs": [],
   "source": [
    "## convert to dataframe\n",
    "\n",
    "df = pd.DataFrame.from_dict(str_df['stations'][0])"
   ]
  },
  {
   "cell_type": "code",
   "execution_count": 6,
   "id": "989aa703",
   "metadata": {},
   "outputs": [
    {
     "data": {
      "text/html": [
       "<div>\n",
       "<style scoped>\n",
       "    .dataframe tbody tr th:only-of-type {\n",
       "        vertical-align: middle;\n",
       "    }\n",
       "\n",
       "    .dataframe tbody tr th {\n",
       "        vertical-align: top;\n",
       "    }\n",
       "\n",
       "    .dataframe thead th {\n",
       "        text-align: right;\n",
       "    }\n",
       "</style>\n",
       "<table border=\"1\" class=\"dataframe\">\n",
       "  <thead>\n",
       "    <tr style=\"text-align: right;\">\n",
       "      <th></th>\n",
       "      <th>CO</th>\n",
       "      <th>NO2</th>\n",
       "      <th>OZONE</th>\n",
       "      <th>PM10</th>\n",
       "      <th>PM25</th>\n",
       "      <th>SO2</th>\n",
       "      <th>city</th>\n",
       "      <th>countryCode</th>\n",
       "      <th>division</th>\n",
       "      <th>lat</th>\n",
       "      <th>lng</th>\n",
       "      <th>placeName</th>\n",
       "      <th>postalCode</th>\n",
       "      <th>state</th>\n",
       "      <th>updatedAt</th>\n",
       "      <th>AQI</th>\n",
       "      <th>aqiInfo</th>\n",
       "    </tr>\n",
       "  </thead>\n",
       "  <tbody>\n",
       "    <tr>\n",
       "      <th>category</th>\n",
       "      <td>0.098</td>\n",
       "      <td>9.901</td>\n",
       "      <td>33.619</td>\n",
       "      <td>16.229</td>\n",
       "      <td>9.766</td>\n",
       "      <td>0.235</td>\n",
       "      <td>Regierungsbezirk Mittelfranken</td>\n",
       "      <td>DE</td>\n",
       "      <td>Nürnberg</td>\n",
       "      <td>49.4504</td>\n",
       "      <td>11.0778</td>\n",
       "      <td>Nürnberg</td>\n",
       "      <td>90402</td>\n",
       "      <td>Bayern</td>\n",
       "      <td>2022-07-01T15:00:00.000Z</td>\n",
       "      <td>41</td>\n",
       "      <td>Good</td>\n",
       "    </tr>\n",
       "    <tr>\n",
       "      <th>concentration</th>\n",
       "      <td>0.098</td>\n",
       "      <td>9.901</td>\n",
       "      <td>33.619</td>\n",
       "      <td>16.229</td>\n",
       "      <td>9.766</td>\n",
       "      <td>0.235</td>\n",
       "      <td>Regierungsbezirk Mittelfranken</td>\n",
       "      <td>DE</td>\n",
       "      <td>Nürnberg</td>\n",
       "      <td>49.4504</td>\n",
       "      <td>11.0778</td>\n",
       "      <td>Nürnberg</td>\n",
       "      <td>90402</td>\n",
       "      <td>Bayern</td>\n",
       "      <td>2022-07-01T15:00:00.000Z</td>\n",
       "      <td>41</td>\n",
       "      <td>9.766</td>\n",
       "    </tr>\n",
       "    <tr>\n",
       "      <th>pollutant</th>\n",
       "      <td>0.098</td>\n",
       "      <td>9.901</td>\n",
       "      <td>33.619</td>\n",
       "      <td>16.229</td>\n",
       "      <td>9.766</td>\n",
       "      <td>0.235</td>\n",
       "      <td>Regierungsbezirk Mittelfranken</td>\n",
       "      <td>DE</td>\n",
       "      <td>Nürnberg</td>\n",
       "      <td>49.4504</td>\n",
       "      <td>11.0778</td>\n",
       "      <td>Nürnberg</td>\n",
       "      <td>90402</td>\n",
       "      <td>Bayern</td>\n",
       "      <td>2022-07-01T15:00:00.000Z</td>\n",
       "      <td>41</td>\n",
       "      <td>PM2.5</td>\n",
       "    </tr>\n",
       "  </tbody>\n",
       "</table>\n",
       "</div>"
      ],
      "text/plain": [
       "                  CO    NO2   OZONE    PM10   PM25    SO2  \\\n",
       "category       0.098  9.901  33.619  16.229  9.766  0.235   \n",
       "concentration  0.098  9.901  33.619  16.229  9.766  0.235   \n",
       "pollutant      0.098  9.901  33.619  16.229  9.766  0.235   \n",
       "\n",
       "                                         city countryCode  division      lat  \\\n",
       "category       Regierungsbezirk Mittelfranken          DE  Nürnberg  49.4504   \n",
       "concentration  Regierungsbezirk Mittelfranken          DE  Nürnberg  49.4504   \n",
       "pollutant      Regierungsbezirk Mittelfranken          DE  Nürnberg  49.4504   \n",
       "\n",
       "                   lng placeName postalCode   state                 updatedAt  \\\n",
       "category       11.0778  Nürnberg      90402  Bayern  2022-07-01T15:00:00.000Z   \n",
       "concentration  11.0778  Nürnberg      90402  Bayern  2022-07-01T15:00:00.000Z   \n",
       "pollutant      11.0778  Nürnberg      90402  Bayern  2022-07-01T15:00:00.000Z   \n",
       "\n",
       "               AQI aqiInfo  \n",
       "category        41    Good  \n",
       "concentration   41   9.766  \n",
       "pollutant       41   PM2.5  "
      ]
     },
     "execution_count": 6,
     "metadata": {},
     "output_type": "execute_result"
    }
   ],
   "source": [
    "df.head()"
   ]
  },
  {
   "cell_type": "code",
   "execution_count": 7,
   "id": "8277b092",
   "metadata": {},
   "outputs": [],
   "source": [
    "## get user fitness data\n",
    "\n",
    "fitness  = pd.read_csv('cardioActivities.csv')"
   ]
  },
  {
   "cell_type": "code",
   "execution_count": 9,
   "id": "82fcec40",
   "metadata": {},
   "outputs": [
    {
     "data": {
      "text/html": [
       "<div>\n",
       "<style scoped>\n",
       "    .dataframe tbody tr th:only-of-type {\n",
       "        vertical-align: middle;\n",
       "    }\n",
       "\n",
       "    .dataframe tbody tr th {\n",
       "        vertical-align: top;\n",
       "    }\n",
       "\n",
       "    .dataframe thead th {\n",
       "        text-align: right;\n",
       "    }\n",
       "</style>\n",
       "<table border=\"1\" class=\"dataframe\">\n",
       "  <thead>\n",
       "    <tr style=\"text-align: right;\">\n",
       "      <th></th>\n",
       "      <th>Date</th>\n",
       "      <th>Activity Id</th>\n",
       "      <th>Type</th>\n",
       "      <th>Route Name</th>\n",
       "      <th>Distance (km)</th>\n",
       "      <th>Duration</th>\n",
       "      <th>Average Pace</th>\n",
       "      <th>Average Speed (km/h)</th>\n",
       "      <th>Calories Burned</th>\n",
       "      <th>Climb (m)</th>\n",
       "      <th>Average Heart Rate (bpm)</th>\n",
       "      <th>Friend's Tagged</th>\n",
       "      <th>Notes</th>\n",
       "      <th>GPX File</th>\n",
       "    </tr>\n",
       "  </thead>\n",
       "  <tbody>\n",
       "    <tr>\n",
       "      <th>0</th>\n",
       "      <td>2018-11-11 14:05:12</td>\n",
       "      <td>c9627fed-14ac-47a2-bed3-2a2630c63c15</td>\n",
       "      <td>Running</td>\n",
       "      <td>NaN</td>\n",
       "      <td>10.44</td>\n",
       "      <td>58:40</td>\n",
       "      <td>5:37</td>\n",
       "      <td>10.68</td>\n",
       "      <td>774.0</td>\n",
       "      <td>130</td>\n",
       "      <td>159.0</td>\n",
       "      <td>NaN</td>\n",
       "      <td>NaN</td>\n",
       "      <td>2018-11-11-140512.gpx</td>\n",
       "    </tr>\n",
       "    <tr>\n",
       "      <th>1</th>\n",
       "      <td>2018-11-09 15:02:35</td>\n",
       "      <td>be65818d-a801-4847-a43b-2acdf4dc70e7</td>\n",
       "      <td>Running</td>\n",
       "      <td>NaN</td>\n",
       "      <td>12.84</td>\n",
       "      <td>1:14:12</td>\n",
       "      <td>5:47</td>\n",
       "      <td>10.39</td>\n",
       "      <td>954.0</td>\n",
       "      <td>168</td>\n",
       "      <td>159.0</td>\n",
       "      <td>NaN</td>\n",
       "      <td>NaN</td>\n",
       "      <td>2018-11-09-150235.gpx</td>\n",
       "    </tr>\n",
       "    <tr>\n",
       "      <th>2</th>\n",
       "      <td>2018-11-04 16:05:00</td>\n",
       "      <td>c09b2f92-f855-497c-b624-c196b3ef036c</td>\n",
       "      <td>Running</td>\n",
       "      <td>NaN</td>\n",
       "      <td>13.01</td>\n",
       "      <td>1:15:16</td>\n",
       "      <td>5:47</td>\n",
       "      <td>10.37</td>\n",
       "      <td>967.0</td>\n",
       "      <td>171</td>\n",
       "      <td>155.0</td>\n",
       "      <td>NaN</td>\n",
       "      <td>NaN</td>\n",
       "      <td>2018-11-04-160500.gpx</td>\n",
       "    </tr>\n",
       "    <tr>\n",
       "      <th>3</th>\n",
       "      <td>2018-11-01 14:03:58</td>\n",
       "      <td>bc9b612d-3499-43ff-b82a-9b17b71b8a36</td>\n",
       "      <td>Running</td>\n",
       "      <td>NaN</td>\n",
       "      <td>12.98</td>\n",
       "      <td>1:14:25</td>\n",
       "      <td>5:44</td>\n",
       "      <td>10.47</td>\n",
       "      <td>960.0</td>\n",
       "      <td>169</td>\n",
       "      <td>158.0</td>\n",
       "      <td>NaN</td>\n",
       "      <td>NaN</td>\n",
       "      <td>2018-11-01-140358.gpx</td>\n",
       "    </tr>\n",
       "    <tr>\n",
       "      <th>4</th>\n",
       "      <td>2018-10-27 17:01:36</td>\n",
       "      <td>972567b2-1b0e-437c-9e82-fef8078d6438</td>\n",
       "      <td>Running</td>\n",
       "      <td>NaN</td>\n",
       "      <td>13.02</td>\n",
       "      <td>1:12:50</td>\n",
       "      <td>5:36</td>\n",
       "      <td>10.73</td>\n",
       "      <td>967.0</td>\n",
       "      <td>170</td>\n",
       "      <td>154.0</td>\n",
       "      <td>NaN</td>\n",
       "      <td>NaN</td>\n",
       "      <td>2018-10-27-170136.gpx</td>\n",
       "    </tr>\n",
       "  </tbody>\n",
       "</table>\n",
       "</div>"
      ],
      "text/plain": [
       "                  Date                           Activity Id     Type  \\\n",
       "0  2018-11-11 14:05:12  c9627fed-14ac-47a2-bed3-2a2630c63c15  Running   \n",
       "1  2018-11-09 15:02:35  be65818d-a801-4847-a43b-2acdf4dc70e7  Running   \n",
       "2  2018-11-04 16:05:00  c09b2f92-f855-497c-b624-c196b3ef036c  Running   \n",
       "3  2018-11-01 14:03:58  bc9b612d-3499-43ff-b82a-9b17b71b8a36  Running   \n",
       "4  2018-10-27 17:01:36  972567b2-1b0e-437c-9e82-fef8078d6438  Running   \n",
       "\n",
       "  Route Name  Distance (km) Duration Average Pace  Average Speed (km/h)  \\\n",
       "0        NaN          10.44    58:40         5:37                 10.68   \n",
       "1        NaN          12.84  1:14:12         5:47                 10.39   \n",
       "2        NaN          13.01  1:15:16         5:47                 10.37   \n",
       "3        NaN          12.98  1:14:25         5:44                 10.47   \n",
       "4        NaN          13.02  1:12:50         5:36                 10.73   \n",
       "\n",
       "   Calories Burned  Climb (m)  Average Heart Rate (bpm)  Friend's Tagged  \\\n",
       "0            774.0        130                     159.0              NaN   \n",
       "1            954.0        168                     159.0              NaN   \n",
       "2            967.0        171                     155.0              NaN   \n",
       "3            960.0        169                     158.0              NaN   \n",
       "4            967.0        170                     154.0              NaN   \n",
       "\n",
       "  Notes               GPX File  \n",
       "0   NaN  2018-11-11-140512.gpx  \n",
       "1   NaN  2018-11-09-150235.gpx  \n",
       "2   NaN  2018-11-04-160500.gpx  \n",
       "3   NaN  2018-11-01-140358.gpx  \n",
       "4   NaN  2018-10-27-170136.gpx  "
      ]
     },
     "execution_count": 9,
     "metadata": {},
     "output_type": "execute_result"
    }
   ],
   "source": [
    "fitness.head()"
   ]
  },
  {
   "cell_type": "code",
   "execution_count": 1,
   "id": "df7c8ea5",
   "metadata": {},
   "outputs": [
    {
     "ename": "NameError",
     "evalue": "name 'fitness' is not defined",
     "output_type": "error",
     "traceback": [
      "\u001b[1;31m---------------------------------------------------------------------------\u001b[0m",
      "\u001b[1;31mNameError\u001b[0m                                 Traceback (most recent call last)",
      "\u001b[1;32mc:\\Users\\antara.das\\gs_visual\\test_with_fitness_data.ipynb Cell 1'\u001b[0m in \u001b[0;36m<cell line: 1>\u001b[1;34m()\u001b[0m\n\u001b[1;32m----> <a href='vscode-notebook-cell:/c%3A/Users/antara.das/gs_visual/test_with_fitness_data.ipynb#ch0000000?line=0'>1</a>\u001b[0m \u001b[39mtype\u001b[39m(fitness[\u001b[39m'\u001b[39m\u001b[39mDate\u001b[39m\u001b[39m'\u001b[39m])\n",
      "\u001b[1;31mNameError\u001b[0m: name 'fitness' is not defined"
     ]
    }
   ],
   "source": [
    "type(fitness['Date'])"
   ]
  },
  {
   "cell_type": "code",
   "execution_count": 17,
   "id": "2c0eb121",
   "metadata": {},
   "outputs": [
    {
     "data": {
      "text/plain": [
       "Index(['CO', 'NO2', 'OZONE', 'PM10', 'PM25', 'SO2', 'city', 'countryCode',\n",
       "       'division', 'lat', 'lng', 'placeName', 'postalCode', 'state',\n",
       "       'updatedAt', 'AQI', 'aqiInfo'],\n",
       "      dtype='object')"
      ]
     },
     "execution_count": 17,
     "metadata": {},
     "output_type": "execute_result"
    }
   ],
   "source": [
    "df.columns"
   ]
  },
  {
   "cell_type": "code",
   "execution_count": 21,
   "id": "30e70963",
   "metadata": {},
   "outputs": [
    {
     "data": {
      "text/plain": [
       "'2022-07-01T15:00:00.000Z'"
      ]
     },
     "execution_count": 21,
     "metadata": {},
     "output_type": "execute_result"
    }
   ],
   "source": []
  },
  {
   "cell_type": "code",
   "execution_count": 30,
   "id": "1c85cc70",
   "metadata": {
    "scrolled": true
   },
   "outputs": [
    {
     "data": {
      "text/html": [
       "<div>\n",
       "<style scoped>\n",
       "    .dataframe tbody tr th:only-of-type {\n",
       "        vertical-align: middle;\n",
       "    }\n",
       "\n",
       "    .dataframe tbody tr th {\n",
       "        vertical-align: top;\n",
       "    }\n",
       "\n",
       "    .dataframe thead th {\n",
       "        text-align: right;\n",
       "    }\n",
       "</style>\n",
       "<table border=\"1\" class=\"dataframe\">\n",
       "  <thead>\n",
       "    <tr style=\"text-align: right;\">\n",
       "      <th></th>\n",
       "      <th>CO</th>\n",
       "      <th>NO2</th>\n",
       "      <th>OZONE</th>\n",
       "      <th>PM10</th>\n",
       "      <th>PM25</th>\n",
       "      <th>SO2</th>\n",
       "      <th>city</th>\n",
       "      <th>countryCode</th>\n",
       "      <th>division</th>\n",
       "      <th>lat</th>\n",
       "      <th>lng</th>\n",
       "      <th>placeName</th>\n",
       "      <th>postalCode</th>\n",
       "      <th>state</th>\n",
       "      <th>updatedAt</th>\n",
       "      <th>AQI</th>\n",
       "      <th>aqiInfo</th>\n",
       "    </tr>\n",
       "  </thead>\n",
       "  <tbody>\n",
       "  </tbody>\n",
       "</table>\n",
       "</div>"
      ],
      "text/plain": [
       "Empty DataFrame\n",
       "Columns: [CO, NO2, OZONE, PM10, PM25, SO2, city, countryCode, division, lat, lng, placeName, postalCode, state, updatedAt, AQI, aqiInfo]\n",
       "Index: []"
      ]
     },
     "execution_count": 30,
     "metadata": {},
     "output_type": "execute_result"
    }
   ],
   "source": [
    "df[df['aqiInfo'] == 'good']"
   ]
  },
  {
   "cell_type": "code",
   "execution_count": 33,
   "id": "8791deca",
   "metadata": {},
   "outputs": [
    {
     "data": {
      "text/plain": [
       "0.098"
      ]
     },
     "execution_count": 33,
     "metadata": {},
     "output_type": "execute_result"
    }
   ],
   "source": [
    "df['CO']['category']"
   ]
  },
  {
   "cell_type": "code",
   "execution_count": 40,
   "id": "fd2cf2f7",
   "metadata": {},
   "outputs": [],
   "source": [
    "senosr = pd.DataFrame({'date_time':'01-07-2022 11:00:00:00:00','detaile': {'pmo':12, 'co2': 23.0}})"
   ]
  },
  {
   "cell_type": "code",
   "execution_count": 41,
   "id": "eb373702",
   "metadata": {},
   "outputs": [
    {
     "data": {
      "text/plain": [
       "'01-07-2022 11:00:00:00:00'"
      ]
     },
     "execution_count": 41,
     "metadata": {},
     "output_type": "execute_result"
    }
   ],
   "source": [
    "senosr.date_time.max()"
   ]
  },
  {
   "cell_type": "code",
   "execution_count": 42,
   "id": "fb28f358",
   "metadata": {},
   "outputs": [
    {
     "ename": "KeyError",
     "evalue": "'01-07-2022 11:00:00:00:00'",
     "output_type": "error",
     "traceback": [
      "\u001b[1;31m---------------------------------------------------------------------------\u001b[0m",
      "\u001b[1;31mKeyError\u001b[0m                                  Traceback (most recent call last)",
      "File \u001b[1;32m~\\AppData\\Local\\Programs\\Python\\Python310\\lib\\site-packages\\pandas\\core\\indexes\\base.py:3621\u001b[0m, in \u001b[0;36mIndex.get_loc\u001b[1;34m(self, key, method, tolerance)\u001b[0m\n\u001b[0;32m   3620\u001b[0m \u001b[38;5;28;01mtry\u001b[39;00m:\n\u001b[1;32m-> 3621\u001b[0m     \u001b[38;5;28;01mreturn\u001b[39;00m \u001b[38;5;28;43mself\u001b[39;49m\u001b[38;5;241;43m.\u001b[39;49m\u001b[43m_engine\u001b[49m\u001b[38;5;241;43m.\u001b[39;49m\u001b[43mget_loc\u001b[49m\u001b[43m(\u001b[49m\u001b[43mcasted_key\u001b[49m\u001b[43m)\u001b[49m\n\u001b[0;32m   3622\u001b[0m \u001b[38;5;28;01mexcept\u001b[39;00m \u001b[38;5;167;01mKeyError\u001b[39;00m \u001b[38;5;28;01mas\u001b[39;00m err:\n",
      "File \u001b[1;32m~\\AppData\\Local\\Programs\\Python\\Python310\\lib\\site-packages\\pandas\\_libs\\index.pyx:136\u001b[0m, in \u001b[0;36mpandas._libs.index.IndexEngine.get_loc\u001b[1;34m()\u001b[0m\n",
      "File \u001b[1;32m~\\AppData\\Local\\Programs\\Python\\Python310\\lib\\site-packages\\pandas\\_libs\\index.pyx:163\u001b[0m, in \u001b[0;36mpandas._libs.index.IndexEngine.get_loc\u001b[1;34m()\u001b[0m\n",
      "File \u001b[1;32mpandas\\_libs\\hashtable_class_helper.pxi:5198\u001b[0m, in \u001b[0;36mpandas._libs.hashtable.PyObjectHashTable.get_item\u001b[1;34m()\u001b[0m\n",
      "File \u001b[1;32mpandas\\_libs\\hashtable_class_helper.pxi:5206\u001b[0m, in \u001b[0;36mpandas._libs.hashtable.PyObjectHashTable.get_item\u001b[1;34m()\u001b[0m\n",
      "\u001b[1;31mKeyError\u001b[0m: '01-07-2022 11:00:00:00:00'",
      "\nThe above exception was the direct cause of the following exception:\n",
      "\u001b[1;31mKeyError\u001b[0m                                  Traceback (most recent call last)",
      "Input \u001b[1;32mIn [42]\u001b[0m, in \u001b[0;36m<cell line: 1>\u001b[1;34m()\u001b[0m\n\u001b[1;32m----> 1\u001b[0m \u001b[43msenosr\u001b[49m\u001b[43m[\u001b[49m\u001b[43msenosr\u001b[49m\u001b[38;5;241;43m.\u001b[39;49m\u001b[43mdate_time\u001b[49m\u001b[38;5;241;43m.\u001b[39;49m\u001b[43mmax\u001b[49m\u001b[43m(\u001b[49m\u001b[43m)\u001b[49m\u001b[43m]\u001b[49m\n",
      "File \u001b[1;32m~\\AppData\\Local\\Programs\\Python\\Python310\\lib\\site-packages\\pandas\\core\\frame.py:3505\u001b[0m, in \u001b[0;36mDataFrame.__getitem__\u001b[1;34m(self, key)\u001b[0m\n\u001b[0;32m   3503\u001b[0m \u001b[38;5;28;01mif\u001b[39;00m \u001b[38;5;28mself\u001b[39m\u001b[38;5;241m.\u001b[39mcolumns\u001b[38;5;241m.\u001b[39mnlevels \u001b[38;5;241m>\u001b[39m \u001b[38;5;241m1\u001b[39m:\n\u001b[0;32m   3504\u001b[0m     \u001b[38;5;28;01mreturn\u001b[39;00m \u001b[38;5;28mself\u001b[39m\u001b[38;5;241m.\u001b[39m_getitem_multilevel(key)\n\u001b[1;32m-> 3505\u001b[0m indexer \u001b[38;5;241m=\u001b[39m \u001b[38;5;28;43mself\u001b[39;49m\u001b[38;5;241;43m.\u001b[39;49m\u001b[43mcolumns\u001b[49m\u001b[38;5;241;43m.\u001b[39;49m\u001b[43mget_loc\u001b[49m\u001b[43m(\u001b[49m\u001b[43mkey\u001b[49m\u001b[43m)\u001b[49m\n\u001b[0;32m   3506\u001b[0m \u001b[38;5;28;01mif\u001b[39;00m is_integer(indexer):\n\u001b[0;32m   3507\u001b[0m     indexer \u001b[38;5;241m=\u001b[39m [indexer]\n",
      "File \u001b[1;32m~\\AppData\\Local\\Programs\\Python\\Python310\\lib\\site-packages\\pandas\\core\\indexes\\base.py:3623\u001b[0m, in \u001b[0;36mIndex.get_loc\u001b[1;34m(self, key, method, tolerance)\u001b[0m\n\u001b[0;32m   3621\u001b[0m     \u001b[38;5;28;01mreturn\u001b[39;00m \u001b[38;5;28mself\u001b[39m\u001b[38;5;241m.\u001b[39m_engine\u001b[38;5;241m.\u001b[39mget_loc(casted_key)\n\u001b[0;32m   3622\u001b[0m \u001b[38;5;28;01mexcept\u001b[39;00m \u001b[38;5;167;01mKeyError\u001b[39;00m \u001b[38;5;28;01mas\u001b[39;00m err:\n\u001b[1;32m-> 3623\u001b[0m     \u001b[38;5;28;01mraise\u001b[39;00m \u001b[38;5;167;01mKeyError\u001b[39;00m(key) \u001b[38;5;28;01mfrom\u001b[39;00m \u001b[38;5;21;01merr\u001b[39;00m\n\u001b[0;32m   3624\u001b[0m \u001b[38;5;28;01mexcept\u001b[39;00m \u001b[38;5;167;01mTypeError\u001b[39;00m:\n\u001b[0;32m   3625\u001b[0m     \u001b[38;5;66;03m# If we have a listlike key, _check_indexing_error will raise\u001b[39;00m\n\u001b[0;32m   3626\u001b[0m     \u001b[38;5;66;03m#  InvalidIndexError. Otherwise we fall through and re-raise\u001b[39;00m\n\u001b[0;32m   3627\u001b[0m     \u001b[38;5;66;03m#  the TypeError.\u001b[39;00m\n\u001b[0;32m   3628\u001b[0m     \u001b[38;5;28mself\u001b[39m\u001b[38;5;241m.\u001b[39m_check_indexing_error(key)\n",
      "\u001b[1;31mKeyError\u001b[0m: '01-07-2022 11:00:00:00:00'"
     ]
    }
   ],
   "source": [
    "senosr[senosr.date_time.max()]"
   ]
  },
  {
   "cell_type": "code",
   "execution_count": null,
   "id": "d96fcd14",
   "metadata": {},
   "outputs": [],
   "source": []
  }
 ],
 "metadata": {
  "kernelspec": {
   "display_name": "Python 3.10.2 64-bit",
   "language": "python",
   "name": "python3"
  },
  "language_info": {
   "codemirror_mode": {
    "name": "ipython",
    "version": 3
   },
   "file_extension": ".py",
   "mimetype": "text/x-python",
   "name": "python",
   "nbconvert_exporter": "python",
   "pygments_lexer": "ipython3",
   "version": "3.10.2"
  },
  "vscode": {
   "interpreter": {
    "hash": "142416f1d2213e99d182171d9444389a7a054257db646b6e08d28cbb56de7bef"
   }
  }
 },
 "nbformat": 4,
 "nbformat_minor": 5
}
